{
 "cells": [
  {
   "cell_type": "markdown",
   "metadata": {},
   "source": [
    "# Training\n",
    "---\n",
    "### Import the necessary packages"
   ]
  },
  {
   "cell_type": "code",
   "execution_count": 1,
   "metadata": {},
   "outputs": [],
   "source": [
    "import random\n",
    "import torch\n",
    "import numpy as np\n",
    "from collections import deque\n",
    "import matplotlib.pyplot as plt\n",
    "%matplotlib inline\n",
    "\n",
    "from unityagents import UnityEnvironment\n",
    "from collab_and_comp.agent import Agent"
   ]
  },
  {
   "cell_type": "markdown",
   "metadata": {},
   "source": [
    "### Instantiate the environment"
   ]
  },
  {
   "cell_type": "code",
   "execution_count": 2,
   "metadata": {},
   "outputs": [
    {
     "name": "stderr",
     "output_type": "stream",
     "text": [
      "INFO:unityagents:\n",
      "'Academy' started successfully!\n",
      "Unity Academy name: Academy\n",
      "        Number of Brains: 1\n",
      "        Number of External Brains : 1\n",
      "        Lesson number : 0\n",
      "        Reset Parameters :\n",
      "\t\t\n",
      "Unity brain name: TennisBrain\n",
      "        Number of Visual Observations (per agent): 0\n",
      "        Vector Observation space type: continuous\n",
      "        Vector Observation space size (per agent): 8\n",
      "        Number of stacked Vector Observation: 3\n",
      "        Vector Action space type: continuous\n",
      "        Vector Action space size (per agent): 2\n",
      "        Vector Action descriptions: , \n"
     ]
    }
   ],
   "source": [
    "env = UnityEnvironment(file_name=\"Tennis/Tennis.exe\")"
   ]
  },
  {
   "cell_type": "markdown",
   "metadata": {},
   "source": [
    "### Instantiate the agent"
   ]
  },
  {
   "cell_type": "code",
   "execution_count": 3,
   "metadata": {},
   "outputs": [],
   "source": [
    "# get the default brain (the interface for the agent)\n",
    "brain_name = env.brain_names[0]\n",
    "brain = env.brains[brain_name]\n",
    "# create a new agent\n",
    "agent = Agent(state_size=24, action_size=2, random_seed=1)"
   ]
  },
  {
   "cell_type": "markdown",
   "metadata": {},
   "source": [
    "### Train the agent using the MADDPG algorithm"
   ]
  },
  {
   "cell_type": "code",
   "execution_count": null,
   "metadata": {},
   "outputs": [
    {
     "name": "stdout",
     "output_type": "stream",
     "text": [
      "Episode 100\tAverage Score: 0.02rage maximum score over the last 10 episodes: 0.03\n",
      "Episode 196\tmax score: 0.00\taverage maximum score over the last 10 episodes: 0.03"
     ]
    }
   ],
   "source": [
    "def maddpg(n_episodes=10000, max_t=100, print_every=100):\n",
    "    scores_deque = deque(maxlen=print_every)\n",
    "    scores = []\n",
    "    beta = 1.0  # factor the random noise gets multiplied with\n",
    "    for i_episode in range(1, n_episodes+1):\n",
    "        env_info = env.reset(train_mode=True)[brain_name]\n",
    "        states = env_info.vector_observations  # get the current states\n",
    "        e_scores = np.zeros(2)  # the scores of an episode for both tennis agents\n",
    "        agent.reset()\n",
    "        for t in range(max_t):\n",
    "            if i_episode < 200:\n",
    "                actions = np.random.randn(2, 2)  # use random actions for the first 200 episodes\n",
    "            else:\n",
    "                actions = agent.act(states, noise_factor=beta)  # let the agent select actions\n",
    "            actions_other_player = np.flip(actions, 0)          # The actions of the other player\n",
    "            env_info = env.step(actions)[brain_name]            # execute the selected actions and save the new information about the environment\n",
    "            rewards = env_info.rewards                          # get the rewards\n",
    "            next_states = env_info.vector_observations          # get the resulting states\n",
    "            next_states_other_player = np.flip(next_states, 0)  # get the resulting states for the other player\n",
    "            dones = env_info.local_done                         # check whether episodes have finished\n",
    "            for _ in range(1 if max(rewards) <= 0 else max(120 - int(i_episode / 10), 1)):  # prioritize successful experiences\n",
    "                agent.step(states, actions, actions_other_player, rewards, next_states, next_states_other_player, dones)  # pass the information to the agent\n",
    "            states = next_states\n",
    "            e_scores += rewards\n",
    "            if np.any(dones):\n",
    "                break\n",
    "        max_score = np.max(e_scores)  # the max score of the agents\n",
    "        scores_deque.append(max_score)\n",
    "        scores.append(max_score)\n",
    "        beta = max(0.999 * beta, 0.01)  # reduce the noise a bit while training\n",
    "        print('\\rEpisode {:d}\\tmax score: {:.2f}\\taverage maximum score over the last 10 episodes: {:.2f}'.format(i_episode, scores_deque[-1], np.mean(list(scores_deque)[-10:])), end=\"\")\n",
    "        if i_episode % 100 == 0:\n",
    "            torch.save(agent.actor_local.state_dict(), 'weights/checkpoint_actor_{:d}_{:.2f}.pth'.format(i_episode, scores_deque[-1]))\n",
    "            torch.save(agent.critic_local.state_dict(), 'weights/checkpoint_critic_{:d}_{:.2f}.pth'.format(i_episode, scores_deque[-1]))\n",
    "        if i_episode > 100 and np.mean(scores_deque) > 0.5:\n",
    "            torch.save(agent.actor_local.state_dict(), 'weights/checkpoint_actor.pth')\n",
    "            torch.save(agent.critic_local.state_dict(), 'weights/checkpoint_critic.pth')\n",
    "            print('\\nEnvironment solved in {:d} episodes!\\tAverage Score: {:.2f}'.format(i_episode-100, np.mean(scores_deque)))\n",
    "            break\n",
    "        if i_episode % print_every == 0:\n",
    "            print('\\rEpisode {}\\tAverage Score: {:.2f}'.format(i_episode, np.mean(scores_deque)))\n",
    "            \n",
    "    return scores\n",
    "\n",
    "scores = maddpg()\n",
    "env.close()  # close the environment as it is no longer needed"
   ]
  },
  {
   "cell_type": "code",
   "execution_count": null,
   "metadata": {},
   "outputs": [],
   "source": []
  }
 ],
 "metadata": {
  "kernelspec": {
   "display_name": "drlnd",
   "language": "python",
   "name": "drlnd"
  },
  "language_info": {
   "codemirror_mode": {
    "name": "ipython",
    "version": 3
   },
   "file_extension": ".py",
   "mimetype": "text/x-python",
   "name": "python",
   "nbconvert_exporter": "python",
   "pygments_lexer": "ipython3",
   "version": "3.6.10"
  }
 },
 "nbformat": 4,
 "nbformat_minor": 4
}
